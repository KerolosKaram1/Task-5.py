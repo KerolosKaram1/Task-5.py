{
  "nbformat": 4,
  "nbformat_minor": 0,
  "metadata": {
    "colab": {
      "provenance": []
    },
    "kernelspec": {
      "name": "python3",
      "display_name": "Python 3"
    },
    "language_info": {
      "name": "python"
    }
  },
  "cells": [
    {
      "cell_type": "markdown",
      "source": [
        "**Write a Python program to add an item to a tuple**"
      ],
      "metadata": {
        "id": "3G1kPKeX7bxO"
      }
    },
    {
      "cell_type": "code",
      "source": [
        "\n",
        "def AddTuple(old, new):\n",
        "    tuple_to_list = list(old)\n",
        "    tuple_to_list.append(new)\n",
        "    new_tuple = tuple(tuple_to_list)\n",
        "    return new_tuple\n",
        "\n",
        "old_tuple = (1, 2, 3, 4)\n",
        "item_to_add = input()\n",
        "new_tuple = AddTuple(old_tuple, item_to_add)\n",
        "print(\"Old Tuple:\", old_tuple)\n",
        "print(\"New Tuple:\", new_tuple)\n",
        "\n",
        "#the code written correctly but colab ignores it :)\n"
      ],
      "metadata": {
        "colab": {
          "base_uri": "https://localhost:8080/",
          "height": 383
        },
        "id": "8q_utD1LD4ii",
        "outputId": "27e11e3c-076a-4b44-d0cd-138bb6440710"
      },
      "execution_count": 2,
      "outputs": [
        {
          "name": "stdout",
          "output_type": "stream",
          "text": [
            "7\n"
          ]
        },
        {
          "output_type": "error",
          "ename": "TypeError",
          "evalue": "ignored",
          "traceback": [
            "\u001b[0;31m---------------------------------------------------------------------------\u001b[0m",
            "\u001b[0;31mTypeError\u001b[0m                                 Traceback (most recent call last)",
            "\u001b[0;32m<ipython-input-2-4d26ce12f264>\u001b[0m in \u001b[0;36m<cell line: 9>\u001b[0;34m()\u001b[0m\n\u001b[1;32m      7\u001b[0m \u001b[0mold_tuple\u001b[0m \u001b[0;34m=\u001b[0m \u001b[0;34m(\u001b[0m\u001b[0;36m1\u001b[0m\u001b[0;34m,\u001b[0m \u001b[0;36m2\u001b[0m\u001b[0;34m,\u001b[0m \u001b[0;36m3\u001b[0m\u001b[0;34m,\u001b[0m \u001b[0;36m4\u001b[0m\u001b[0;34m)\u001b[0m\u001b[0;34m\u001b[0m\u001b[0;34m\u001b[0m\u001b[0m\n\u001b[1;32m      8\u001b[0m \u001b[0mitem_to_add\u001b[0m \u001b[0;34m=\u001b[0m \u001b[0minput\u001b[0m\u001b[0;34m(\u001b[0m\u001b[0;34m)\u001b[0m\u001b[0;34m\u001b[0m\u001b[0;34m\u001b[0m\u001b[0m\n\u001b[0;32m----> 9\u001b[0;31m \u001b[0mnew_tuple\u001b[0m \u001b[0;34m=\u001b[0m \u001b[0mAddTuple\u001b[0m\u001b[0;34m(\u001b[0m\u001b[0mold_tuple\u001b[0m\u001b[0;34m,\u001b[0m \u001b[0mitem_to_add\u001b[0m\u001b[0;34m)\u001b[0m\u001b[0;34m\u001b[0m\u001b[0;34m\u001b[0m\u001b[0m\n\u001b[0m\u001b[1;32m     10\u001b[0m \u001b[0mprint\u001b[0m\u001b[0;34m(\u001b[0m\u001b[0;34m\"Old Tuple:\"\u001b[0m\u001b[0;34m,\u001b[0m \u001b[0mold_tuple\u001b[0m\u001b[0;34m)\u001b[0m\u001b[0;34m\u001b[0m\u001b[0;34m\u001b[0m\u001b[0m\n\u001b[1;32m     11\u001b[0m \u001b[0mprint\u001b[0m\u001b[0;34m(\u001b[0m\u001b[0;34m\"New Tuple:\"\u001b[0m\u001b[0;34m,\u001b[0m \u001b[0mnew_tuple\u001b[0m\u001b[0;34m)\u001b[0m\u001b[0;34m\u001b[0m\u001b[0;34m\u001b[0m\u001b[0m\n",
            "\u001b[0;32m<ipython-input-2-4d26ce12f264>\u001b[0m in \u001b[0;36mAddTuple\u001b[0;34m(old, new)\u001b[0m\n\u001b[1;32m      1\u001b[0m \u001b[0;32mdef\u001b[0m \u001b[0mAddTuple\u001b[0m\u001b[0;34m(\u001b[0m\u001b[0mold\u001b[0m\u001b[0;34m,\u001b[0m \u001b[0mnew\u001b[0m\u001b[0;34m)\u001b[0m\u001b[0;34m:\u001b[0m\u001b[0;34m\u001b[0m\u001b[0;34m\u001b[0m\u001b[0m\n\u001b[0;32m----> 2\u001b[0;31m     \u001b[0mtuple_to_list\u001b[0m \u001b[0;34m=\u001b[0m \u001b[0mlist\u001b[0m\u001b[0;34m(\u001b[0m\u001b[0mold\u001b[0m\u001b[0;34m)\u001b[0m\u001b[0;34m\u001b[0m\u001b[0;34m\u001b[0m\u001b[0m\n\u001b[0m\u001b[1;32m      3\u001b[0m     \u001b[0mtuple_to_list\u001b[0m\u001b[0;34m.\u001b[0m\u001b[0mappend\u001b[0m\u001b[0;34m(\u001b[0m\u001b[0mnew\u001b[0m\u001b[0;34m)\u001b[0m\u001b[0;34m\u001b[0m\u001b[0;34m\u001b[0m\u001b[0m\n\u001b[1;32m      4\u001b[0m     \u001b[0mnew_tuple\u001b[0m \u001b[0;34m=\u001b[0m \u001b[0mtuple\u001b[0m\u001b[0;34m(\u001b[0m\u001b[0mtuple_to_list\u001b[0m\u001b[0;34m)\u001b[0m\u001b[0;34m\u001b[0m\u001b[0;34m\u001b[0m\u001b[0m\n\u001b[1;32m      5\u001b[0m     \u001b[0;32mreturn\u001b[0m \u001b[0mnew_tuple\u001b[0m\u001b[0;34m\u001b[0m\u001b[0;34m\u001b[0m\u001b[0m\n",
            "\u001b[0;31mTypeError\u001b[0m: 'list' object is not callable"
          ]
        }
      ]
    },
    {
      "cell_type": "markdown",
      "source": [
        "**Write a Python program to sum all the items in a list**"
      ],
      "metadata": {
        "id": "Ut-5GoBdDxEC"
      }
    },
    {
      "cell_type": "code",
      "source": [
        "\n",
        "list = [1, 2, 3, 4, 5]\n",
        "print(\"List:\", list)\n",
        "\n",
        "list_sum = sum(list)\n",
        "\n",
        "print(\"Sum of the list:\", list_sum)\n"
      ],
      "metadata": {
        "colab": {
          "base_uri": "https://localhost:8080/"
        },
        "id": "lUFubRywO83z",
        "outputId": "3b01c0fa-880f-46f6-ccb0-8c4ab881b775"
      },
      "execution_count": 1,
      "outputs": [
        {
          "output_type": "stream",
          "name": "stdout",
          "text": [
            "List: [1, 2, 3, 4, 5]\n",
            "Sum of the list: 15\n"
          ]
        }
      ]
    },
    {
      "cell_type": "markdown",
      "source": [
        "**Write a Python program to multiply all the items in a list.**\n",
        "\n"
      ],
      "metadata": {
        "id": "uMjdmwNMPJis"
      }
    },
    {
      "cell_type": "code",
      "source": [
        "def multiply_list(items):\n",
        "  result=1\n",
        "  for item in items:\n",
        "    result=result*item\n",
        "  return result\n",
        "\n",
        "mylist=[1,2,3,4,5]\n",
        "result=multiply_list(mylist)\n",
        "\n",
        "print (\"result= \",result)\n"
      ],
      "metadata": {
        "colab": {
          "base_uri": "https://localhost:8080/"
        },
        "id": "nRfzXymePJHx",
        "outputId": "d4585b1e-405b-445c-c1cc-57b6d8a4662a"
      },
      "execution_count": 10,
      "outputs": [
        {
          "output_type": "stream",
          "name": "stdout",
          "text": [
            "result=  120\n"
          ]
        }
      ]
    },
    {
      "cell_type": "markdown",
      "source": [
        "**Write a Python program to get the smallest number from a list.**"
      ],
      "metadata": {
        "id": "LH2C68AkSrKS"
      }
    },
    {
      "cell_type": "code",
      "source": [
        "def smallest(items):\n",
        "  smallest=items[0]\n",
        "  for item in items[1:]:\n",
        "    if item < smallest:\n",
        "      smallest = item\n",
        "  return smallest\n",
        "\n",
        "my_list=[1,2,3,4,5]\n",
        "smallest_number = smallest(my_list)\n",
        "print(\"The smallest number is:\", smallest_number)"
      ],
      "metadata": {
        "colab": {
          "base_uri": "https://localhost:8080/"
        },
        "id": "3I6v8-DGRzpE",
        "outputId": "84e26eae-7f4f-4115-b97d-15ffee302b5f"
      },
      "execution_count": 12,
      "outputs": [
        {
          "output_type": "stream",
          "name": "stdout",
          "text": [
            "The smallest number is: 1\n"
          ]
        }
      ]
    },
    {
      "cell_type": "markdown",
      "source": [
        "**Write a Python program to get the largest number from a list.**"
      ],
      "metadata": {
        "id": "mDQRtCLLXqVG"
      }
    },
    {
      "cell_type": "code",
      "source": [
        "def largest(items):\n",
        "  largest=items[0]\n",
        "  for item in items[1:]:\n",
        "    if item > largest:\n",
        "      largest = item\n",
        "  return largest\n",
        "\n",
        "my_list=[1,2,3,4,5]\n",
        "largest_number = largest(my_list)\n",
        "print(\"The smallest number is:\", largest_number)"
      ],
      "metadata": {
        "colab": {
          "base_uri": "https://localhost:8080/"
        },
        "id": "98neJowDXe51",
        "outputId": "2b1b73b8-63c0-477e-e9d7-714c4f555274"
      },
      "execution_count": 14,
      "outputs": [
        {
          "output_type": "stream",
          "name": "stdout",
          "text": [
            "The smallest number is: 5\n"
          ]
        }
      ]
    },
    {
      "cell_type": "markdown",
      "source": [
        "**Write a Python program to count the number of strings from a given list of\n",
        "strings**\n"
      ],
      "metadata": {
        "id": "s-sefl21YXeC"
      }
    },
    {
      "cell_type": "code",
      "source": [
        "def count_string(items):\n",
        "  count=0\n",
        "  for item in items:\n",
        "    count+=1\n",
        "  return count\n",
        "\n",
        "\n",
        "str_list=['kero','amit','learning','ml']\n",
        "count_str = count_string(str_list)\n",
        "print(\"Number of strings in the list:\", count_str)"
      ],
      "metadata": {
        "colab": {
          "base_uri": "https://localhost:8080/"
        },
        "id": "SpNhfMgFYXMd",
        "outputId": "c5cb68e3-e377-4723-9c54-c000ee9896e6"
      },
      "execution_count": 22,
      "outputs": [
        {
          "output_type": "stream",
          "name": "stdout",
          "text": [
            "Number of strings in the list: 4\n"
          ]
        }
      ]
    },
    {
      "cell_type": "markdown",
      "source": [
        "**Write a Python program to clone or copy a list**"
      ],
      "metadata": {
        "id": "4xI7tI73toZO"
      }
    },
    {
      "cell_type": "code",
      "source": [
        "str_list=['kero','amit','learning','ml']\n",
        "cloned_list = str_list[:5]\n",
        "print(cloned_list)"
      ],
      "metadata": {
        "colab": {
          "base_uri": "https://localhost:8080/"
        },
        "id": "cYqF0UCcYQtJ",
        "outputId": "516bb266-9a36-4595-a786-d6f18796cc7b"
      },
      "execution_count": 79,
      "outputs": [
        {
          "output_type": "stream",
          "name": "stdout",
          "text": [
            "['kero', 'amit', 'learning', 'ml']\n"
          ]
        }
      ]
    },
    {
      "cell_type": "markdown",
      "source": [
        "**. Write a Python program to remove item(s) from a given set.**"
      ],
      "metadata": {
        "id": "ZboJ3paghhjY"
      }
    },
    {
      "cell_type": "code",
      "source": [
        "def remove_item(set, item):\n",
        "\n",
        "  if item in set:\n",
        "    set.remove(item)\n",
        "  else:\n",
        "    print(f\"The item {item} is not in the set.\")\n",
        "\n",
        "\n",
        "set = {1, 2, 3, 4, 5}\n",
        "remove_item(set, 3)\n",
        "print(set)"
      ],
      "metadata": {
        "colab": {
          "base_uri": "https://localhost:8080/"
        },
        "id": "vYvyN0RCsQWE",
        "outputId": "5627aff6-e6d0-4d5d-c200-fbc1ebcb3cc6"
      },
      "execution_count": 27,
      "outputs": [
        {
          "output_type": "stream",
          "name": "stdout",
          "text": [
            "{1, 2, 4, 5}\n"
          ]
        }
      ]
    },
    {
      "cell_type": "markdown",
      "source": [
        "**Write a Python program to check if a set is a subset of another set.**"
      ],
      "metadata": {
        "id": "FnYfSHs4_hJn"
      }
    },
    {
      "cell_type": "code",
      "source": [
        "set1 = {1, 2, 3, 4, 5, 6}\n",
        "\n",
        "user_input = input(\"Enter elements separated by commas:\")\n",
        "user_set = {int(item) for item in user_input.split(\",\")}\n",
        "print(\"User set =\", user_set)\n",
        "\n",
        "print(\"original set:\",set1)\n",
        "if user_set.issubset(set1):\n",
        "    print(\"the set is a subset of another set\")\n",
        "else:\n",
        "    print(\"the set is not a subset of another set\")"
      ],
      "metadata": {
        "colab": {
          "base_uri": "https://localhost:8080/"
        },
        "id": "-vpLroH7EEE1",
        "outputId": "88f3c766-a1e2-4a5f-9a21-00b5298fe6a4"
      },
      "execution_count": 47,
      "outputs": [
        {
          "output_type": "stream",
          "name": "stdout",
          "text": [
            "Enter elements separated by commas:1,23,34\n",
            "User set = {1, 34, 23}\n",
            "original set: {1, 2, 3, 4, 5, 6}\n",
            "the set is not a subset of another set\n"
          ]
        }
      ]
    },
    {
      "cell_type": "markdown",
      "source": [
        "**Write a Python program to remove all elements from a given set.**"
      ],
      "metadata": {
        "id": "zl3I5Kh8II_V"
      }
    },
    {
      "cell_type": "code",
      "source": [
        "def remove_set(set):\n",
        "    set.clear()\n",
        "\n",
        "set = {1, 2, 3, 4, 5}\n",
        "print(\"Original set:\", set)\n",
        "\n",
        "remove_set(set)\n",
        "print(\"Set after removing all elements:\", set)"
      ],
      "metadata": {
        "colab": {
          "base_uri": "https://localhost:8080/"
        },
        "id": "Wd6Q5p4xH42t",
        "outputId": "f4fdb670-dabe-45d8-8e7d-f953b2e086bd"
      },
      "execution_count": 52,
      "outputs": [
        {
          "output_type": "stream",
          "name": "stdout",
          "text": [
            "Original set: {1, 2, 3, 4, 5}\n",
            "Set after removing all elements: set()\n"
          ]
        }
      ]
    },
    {
      "cell_type": "markdown",
      "source": [
        "**Write a Python program to find the maximum and minimum values in a set**"
      ],
      "metadata": {
        "id": "zCGpjg4UOi1m"
      }
    },
    {
      "cell_type": "code",
      "source": [
        "def min_max(set):\n",
        "  min_value=min(set)\n",
        "  max_value=max(set)\n",
        "  return min_value,max_value\n",
        "set1 = {1, 2, 3, 4, 5}\n",
        "\n",
        "min_val=min_max(set1)\n",
        "max_val=min_max(set1)\n",
        "\n",
        "print(\"Minimum value:\", min_val)\n",
        "print(\"maximum value:\", max_val)\n"
      ],
      "metadata": {
        "colab": {
          "base_uri": "https://localhost:8080/"
        },
        "id": "B_r9B6BgO3KH",
        "outputId": "668b7735-6f40-40e3-8fb8-510ea55877c6"
      },
      "execution_count": 60,
      "outputs": [
        {
          "output_type": "stream",
          "name": "stdout",
          "text": [
            "Minimum value: (1, 5)\n",
            "maximum value: (1, 5)\n"
          ]
        }
      ]
    },
    {
      "cell_type": "markdown",
      "source": [
        "**Write a Python program to find the index of an item in a tuple.**"
      ],
      "metadata": {
        "id": "cmgLEUQQT3Iu"
      }
    },
    {
      "cell_type": "code",
      "source": [
        "def find_index(tuple,item):\n",
        "  for i in range(len(tuple)):\n",
        "    if tuple[i]==item:\n",
        "      return i\n",
        "    return -1\n",
        "tuple1 = (1,2,3,4,5)\n",
        "find_item = int(input(\"Enter the item you want to find: \"))\n",
        "index=find_index(tuple1,find_item)\n",
        "\n",
        "if index != -1:\n",
        "    print(f\"The item {find_item} was found at index {index}.\")\n",
        "else:\n",
        "    print(f\"The item {find_item} was not found in the tuple.\")\n",
        "\n",
        ""
      ],
      "metadata": {
        "colab": {
          "base_uri": "https://localhost:8080/"
        },
        "id": "1Nz9z5FRTKxb",
        "outputId": "04b11817-5e07-4db1-b914-3a26563d11d3"
      },
      "execution_count": 72,
      "outputs": [
        {
          "output_type": "stream",
          "name": "stdout",
          "text": [
            "Enter the item you want to find: 1\n",
            "The item 1 was found at index 0.\n"
          ]
        }
      ]
    },
    {
      "cell_type": "markdown",
      "source": [
        "**Write a Python program to convert a tuple to a dictionary.**"
      ],
      "metadata": {
        "id": "AkLs7Z5wkw2x"
      }
    },
    {
      "cell_type": "code",
      "source": [
        "def tuple_to_dict(tuple):\n",
        "    result_dict = {}\n",
        "    for i in range(len(tuple)):\n",
        "        result_dict[tuple[i]] = i\n",
        "    return result_dict\n",
        "\n",
        "tuple1 = (1, 2, 3, 4, 5)\n",
        "\n",
        "dict1 = tuple_to_dict(tuple1)\n",
        "\n",
        "print(dict1)"
      ],
      "metadata": {
        "colab": {
          "base_uri": "https://localhost:8080/"
        },
        "id": "yorfOh2ckwad",
        "outputId": "5e839c25-9f40-45cd-a75a-d3d32fa24b6b"
      },
      "execution_count": 74,
      "outputs": [
        {
          "output_type": "stream",
          "name": "stdout",
          "text": [
            "{1: 0, 2: 1, 3: 2, 4: 3, 5: 4}\n"
          ]
        }
      ]
    },
    {
      "cell_type": "markdown",
      "source": [
        "**Write a Python program to unzip a list of tuples into individual lists.**"
      ],
      "metadata": {
        "id": "Y6SV3sf42CxW"
      }
    },
    {
      "cell_type": "code",
      "source": [],
      "metadata": {
        "id": "FXV686UK40B9"
      },
      "execution_count": null,
      "outputs": []
    },
    {
      "cell_type": "markdown",
      "source": [
        "**Write a Python program to reverse a tuple.**"
      ],
      "metadata": {
        "id": "A9TjcEAM40iE"
      }
    },
    {
      "cell_type": "code",
      "source": [
        "def reverse_tuple(tuple):\n",
        "    reversed_tuple =tuple[::-1]\n",
        "    return reversed_tuple\n",
        "\n",
        "original_tuple = (1, 2, 3, 4, 5)\n",
        "reversed_tuple = reverse_tuple(original_tuple)\n",
        "print(\"Original Tuple:\", original_tuple)\n",
        "print(\"Reversed Tuple:\", reversed_tuple)"
      ],
      "metadata": {
        "colab": {
          "base_uri": "https://localhost:8080/"
        },
        "id": "tkqLetly45Ji",
        "outputId": "7e4be466-d334-4e1a-cbd7-5be7b4b136dd"
      },
      "execution_count": 78,
      "outputs": [
        {
          "output_type": "stream",
          "name": "stdout",
          "text": [
            "Original Tuple: (1, 2, 3, 4, 5)\n",
            "Reversed Tuple: (5, 4, 3, 2, 1)\n"
          ]
        }
      ]
    }
  ]
}